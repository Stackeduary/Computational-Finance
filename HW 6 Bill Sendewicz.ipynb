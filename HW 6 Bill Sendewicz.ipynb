{
 "cells": [
  {
   "cell_type": "code",
   "execution_count": 1,
   "metadata": {},
   "outputs": [],
   "source": [
    "# CN solver with logic for American and European options\n",
    "\n",
    "import numpy as np\n",
    "from scipy import linalg\n",
    "\n",
    "def CN(m, n, xmin, xmax, r, T, alpha, beta, u0, phi1, phi2, American = False):\n",
    "    \n",
    "    \"\"\"alpha and beta are assumed to be functions of x and t\n",
    "    phi1, phi2 are functions of xmin, t and xmax, t\n",
    "    \"\"\"\n",
    "\n",
    "    dx = (xmax - xmin)/n\n",
    "    x = np.linspace(xmin, xmax, n+1)\n",
    "    \n",
    "    # define the function alpha\n",
    "    # for transformed BS equation\n",
    "    dt = T/m\n",
    "    \n",
    "    # define values of x_i\n",
    "    x = np.linspace(xmin, xmax, n+1)\n",
    "    \n",
    "    # define matrix U with dimension (n+1) by (m+1)\n",
    "    U = np.zeros(shape = (n+1, m+1))\n",
    "    \n",
    "    # fill in the final condition\n",
    "    U[:, m] = u0(x)\n",
    "    \n",
    "    # compute all other values\n",
    "    i = np.arange(1, n)\n",
    "    t = np.linspace(0, T, m+1)\n",
    "    \n",
    "    # define matrix M\n",
    "    M = np.zeros(shape = (n+1, n+1))\n",
    "    M[0, 0] = 1\n",
    "    M[n, n] = 1\n",
    "    \n",
    "    # define vector F\n",
    "    F = np.zeros(n+1)\n",
    "    \n",
    "    for k in range (m-1, -1, -1):\n",
    "               \n",
    "        aik = (-dt/(2*dx**2))*(alpha(x[i], t[k]) - beta(x[i], t[k])/2*dx)\n",
    "        bik = 1 + (dt/(dx**2))*alpha(x[i], t[k]) + r*dt/2\n",
    "        cik = (-dt/(2*dx**2))*(alpha(x[i], t[k]) + beta(x[i], t[k])/2*dx)\n",
    "        dik = (dt/(2*dx**2))*(alpha(x[i], t[k+1]) - beta(x[i], t[k+1])/2*dx)\n",
    "        eik = 1 - (dt/(dx**2))*alpha(x[i], t[k+1]) - r*dt/2\n",
    "        fik = (dt/(2*dx**2))*(alpha(x[i], t[k+1]) + beta(x[i], t[k+1])/2*dx)\n",
    "        \n",
    "        M[i, i-1] = aik\n",
    "        M[i, i] = bik\n",
    "        M[i, i+1] = cik\n",
    "    \n",
    "        # boundary conditions\n",
    "        F[0] = phi1(xmin, t[k])\n",
    "        F[n] = phi2(xmax, t[k])\n",
    "        F[i] = dik*U[i-1, k+1] + eik*U[i, k+1] + fik*U[i+1, k+1]\n",
    "        \n",
    "        # solve the system\n",
    "        U[:, k] = linalg.solve(M, F)\n",
    "        \n",
    "        if American:\n",
    "            U[:, k] = np.maximum(U[:, k], U[:, m])\n",
    "        \n",
    "    return U[:, 0] # the first column of U, option prices for t = 0"
   ]
  },
  {
   "cell_type": "code",
   "execution_count": 2,
   "metadata": {},
   "outputs": [],
   "source": [
    "# parameters given in the problem\n",
    "\n",
    "def sigma(s, t):\n",
    "    return .3 + .3/(1 + .1*np.abs(s - 5*t - 55))\n",
    "\n",
    "r = .02\n",
    "D = .04\n",
    "S0 = 70\n",
    "T = .5\n",
    "total_error = .01\n",
    "\n",
    "rho = 2\n",
    "xmin = np.log(S0/rho)\n",
    "xmax = np.log(S0*rho)\n",
    "\n",
    "def p(s):\n",
    "    return np.maximum(np.abs(s - 65) - 15, 0)\n",
    "\n",
    "def alpha(x, t):\n",
    "    return sigma(np.exp(x), t)**2/2\n",
    "    \n",
    "def beta(x, t):\n",
    "    return r - D - alpha(x, t)\n",
    "\n",
    "def u0(x):\n",
    "    return p(np.exp(x))\n",
    "\n",
    "def phi1(xmin,t):\n",
    "    return p(np.exp(xmin))\n",
    "\n",
    "def phi2(xmax,t):\n",
    "    return p(np.exp(xmax))\n",
    "\n",
    "n0 = 10\n",
    "m0 = 5\n",
    "z = 1"
   ]
  },
  {
   "cell_type": "code",
   "execution_count": 3,
   "metadata": {},
   "outputs": [
    {
     "name": "stdout",
     "output_type": "stream",
     "text": [
      "5.738042721608455 5.722526947799763\n"
     ]
    }
   ],
   "source": [
    "# testing whether my CN solver can compute the price of an option correctly\n",
    "\n",
    "n = z*n0\n",
    "m = m0\n",
    "American_option = CN(m, n, xmin, xmax, r, T, alpha, beta, u0, phi1, phi2, American = True)[n//2]\n",
    "European_option = CN(m, n, xmin, xmax, r, T, alpha, beta, u0, phi1, phi2, American = False)[n//2]\n",
    "print(American_option, European_option)"
   ]
  },
  {
   "cell_type": "code",
   "execution_count": 4,
   "metadata": {},
   "outputs": [],
   "source": [
    "def Runge(m0, n0, mfactor, nfactor, q, value, error):\n",
    "    \"\"\"value is a function of m, n, should return answer (a number)\n",
    "    if we multipy m by mfactor, n by nfactor, the error is reduced by q\n",
    "    error is how accurate we want the answer to be\n",
    "    \"\"\"\n",
    "    m = m0\n",
    "    n = n0\n",
    "    answer1 = value(m, n)\n",
    "    estimate = error + 1\n",
    "    while estimate > error:\n",
    "        m = m*mfactor\n",
    "        n = n*nfactor\n",
    "        answer2 = value(m, n)\n",
    "        estimate = np.abs(answer2 - answer1)/(q - 1)\n",
    "        answer1 = answer2\n",
    "        print(\"runge\", m, n, rho, estimate)\n",
    "    return answer2"
   ]
  },
  {
   "cell_type": "code",
   "execution_count": 5,
   "metadata": {},
   "outputs": [],
   "source": [
    "def price_CN(m,n):\n",
    "    return CN(m, n, xmin, xmax, r, T, alpha, beta, u0, phi1, phi2, American = True)[n//2]"
   ]
  },
  {
   "cell_type": "code",
   "execution_count": 6,
   "metadata": {},
   "outputs": [
    {
     "name": "stdout",
     "output_type": "stream",
     "text": [
      "runge 40 20 2 0.17979624293731167\n",
      "runge 160 40 2 0.038725334838956904\n",
      "runge 640 80 2 0.007329760289719545\n",
      "runge 2560 160 2 0.0005240392022791696\n",
      "runge 40 40 4 0.1772018079582569\n",
      "runge 160 80 4 0.038175540528351704\n",
      "runge 640 160 4 0.007182949871583411\n",
      "runge 2560 320 4 0.00048388207738447875\n",
      "the price of the American option is 5.972539932740992\n"
     ]
    }
   ],
   "source": [
    "answer_rho1 = Runge(10, 10, 4, 2, 2, price_CN, total_error/2)\n",
    "estimate_rho = total_error\n",
    "z = 1\n",
    "while (estimate_rho > total_error/2):\n",
    "    z = z + 1\n",
    "    rho = rho*2\n",
    "    xmin = np.log(S0/rho)\n",
    "    xmax = np.log(S0*rho)\n",
    "    answer_rho2 = Runge(10, 10*z, 4, 2, 2, price_CN, total_error/2)\n",
    "    estimate_rho = np.abs(answer_rho1 - answer_rho2)\n",
    "    answer_rho1 = answer_rho2\n",
    "    price_American_option = answer_rho2\n",
    "print(\"the price of the American option is\",price_American_option)\n",
    "\n",
    "# runge 40 20 2 0.17979624293731167\n",
    "# runge 160 40 2 0.038725334838956904\n",
    "# runge 640 80 2 0.007329760289719545\n",
    "# runge 2560 160 2 0.0005240392022791696\n",
    "# runge 40 40 4 0.1772018079582569\n",
    "# runge 160 80 4 0.038175540528351704\n",
    "# runge 640 160 4 0.007182949871583411\n",
    "# runge 2560 320 4 0.00048388207738447875\n",
    "# the price of the American option is 5.972539932740992"
   ]
  },
  {
   "cell_type": "code",
   "execution_count": 7,
   "metadata": {},
   "outputs": [
    {
     "data": {
      "text/plain": [
       "0.2412279559040229"
      ]
     },
     "execution_count": 7,
     "metadata": {},
     "output_type": "execute_result"
    }
   ],
   "source": [
    "def derivative(m, n, American, i_price):\n",
    "    prices = CN(m, n, xmin, xmax, r, T, alpha, beta, u0, phi1, phi2, American = True)\n",
    "    dx = (xmax - xmin)/n\n",
    "    return (prices[i_price + 1] - prices[i_price - 1])/(2*dx)/S0\n",
    "\n",
    "derivative(m, n, True, n//2)\n",
    "\n",
    "# 0.2412279559040229\n",
    "# American"
   ]
  },
  {
   "cell_type": "code",
   "execution_count": 8,
   "metadata": {},
   "outputs": [
    {
     "name": "stdout",
     "output_type": "stream",
     "text": [
      "runge 40 20 4 0.05229830079113726\n",
      "runge 160 40 4 0.007165703948753321\n",
      "runge 640 80 4 0.0018496236500237517\n",
      "runge 40 40 8 0.007060875646118597\n",
      "runge 160 80 8 0.001808642000808186\n",
      "the delta of the American option is 0.1802408163464242\n"
     ]
    }
   ],
   "source": [
    "American = True\n",
    "def value(m, n):\n",
    "    # when using an explicit method, just ignore the value of m\n",
    "    return derivative(m, n, American, n//2)\n",
    "answer_rho1 = Runge(10, 10, 4, 2, 2, value, total_error/2)\n",
    "estimate_rho = total_error\n",
    "z = 1\n",
    "while (estimate_rho > total_error/2):\n",
    "    z = z + 1\n",
    "    rho = rho*2\n",
    "    # answer_rho2 = Runge(10, 10*z, 2, 2, 4, value, total_error/2)\n",
    "    answer_rho2 = Runge(10, 10*z, 4, 2, 2, value, total_error/2)\n",
    "    estimate_rho = np.abs(answer_rho1 - answer_rho2)\n",
    "    answer_rho1 = answer_rho2\n",
    "\n",
    "delta_American_option = answer_rho2\n",
    "\n",
    "print(\"the delta of the American option is\",delta_American_option)\n",
    "\n",
    "# runge 40 20 4 0.05229830079113726\n",
    "# runge 160 40 4 0.007165703948753321\n",
    "# runge 640 80 4 0.0018496236500237517\n",
    "# runge 40 40 8 0.007060875646118597\n",
    "# runge 160 80 8 0.001808642000808186\n",
    "# the delta of the American option is 0.1802408163464242"
   ]
  },
  {
   "cell_type": "code",
   "execution_count": 9,
   "metadata": {},
   "outputs": [
    {
     "name": "stdout",
     "output_type": "stream",
     "text": [
      "runge 40 20 2 0.17169573777524327\n",
      "runge 160 40 2 0.035587023942511564\n",
      "runge 640 80 2 0.006157693764758498\n",
      "runge 2560 160 2 9.995110571114907e-05\n",
      "runge 40 40 4 0.170593797272228\n",
      "runge 160 80 4 0.03543025595205851\n",
      "runge 640 160 4 0.006108807130388527\n",
      "runge 2560 320 4 8.424605760470882e-05\n",
      "the price of the European option is 5.9390908389878785\n"
     ]
    }
   ],
   "source": [
    "# For the European case:\n",
    "\n",
    "rho = 2\n",
    "xmin = np.log(S0/rho)\n",
    "xmax = np.log(S0*rho)\n",
    "n0 = 10\n",
    "m0 = 5\n",
    "z = 1\n",
    "n = n0\n",
    "m = m0\n",
    "\n",
    "def price_CN(m,n):\n",
    "    return CN(m, n, xmin, xmax, r, T, alpha, beta, u0, phi1, phi2, American = False)[n//2]\n",
    "\n",
    "def derivative(m, n, American, i_price):\n",
    "    prices = CN(m, n, xmin, xmax, r, T, alpha, beta, u0, phi1, phi2, American = False)\n",
    "    dx = (xmax - xmin)/n\n",
    "    return (prices[i_price + 1] - prices[i_price - 1])/(2*dx)/S0\n",
    "\n",
    "derivative(m, n, False, n//2)\n",
    "\n",
    "answer_rho1 = Runge(10, 10, 4, 2, 2, price_CN, total_error/2)\n",
    "estimate_rho = total_error\n",
    "z = 1\n",
    "while (estimate_rho > total_error/2):\n",
    "    z = z + 1\n",
    "    rho = rho*2\n",
    "    xmin = np.log(S0/rho)\n",
    "    xmax = np.log(S0*rho)\n",
    "    answer_rho2 = Runge(10, 10*z, 4, 2, 2, price_CN, total_error/2)\n",
    "    estimate_rho = np.abs(answer_rho1 - answer_rho2)\n",
    "    answer_rho1 = answer_rho2\n",
    "    price_European_option = answer_rho2\n",
    "print(\"the price of the European option is\",price_European_option)\n",
    "\n",
    "# runge 40 20 2 0.17169573777524327\n",
    "# runge 160 40 2 0.035587023942511564\n",
    "# runge 640 80 2 0.006157693764758498\n",
    "# runge 2560 160 2 9.995110571114907e-05\n",
    "# runge 40 40 4 0.170593797272228\n",
    "# runge 160 80 4 0.03543025595205851\n",
    "# runge 640 160 4 0.006108807130388527\n",
    "# runge 2560 320 4 8.424605760470882e-05\n",
    "# the price of the European option is 5.9390908389878785"
   ]
  },
  {
   "cell_type": "code",
   "execution_count": 10,
   "metadata": {},
   "outputs": [
    {
     "name": "stdout",
     "output_type": "stream",
     "text": [
      "runge 40 20 4 0.05216656624640853\n",
      "runge 160 40 4 0.007210369033354341\n",
      "runge 640 80 4 0.0019301410971800936\n",
      "runge 40 40 8 0.007323710542540995\n",
      "runge 160 80 8 0.0019347345168801433\n",
      "the delta of the European option is 0.17700415174287917\n"
     ]
    }
   ],
   "source": [
    "American = False\n",
    "def value(m, n):\n",
    "    #in the case of using an explicit method, we just ignore the value of m\n",
    "    return derivative(m, n, American, n//2)\n",
    "answer_rho1 = Runge(10, 10, 4, 2, 2, value, total_error/2)\n",
    "estimate_rho = total_error\n",
    "z = 1\n",
    "while (estimate_rho > total_error/2):\n",
    "    z = z + 1\n",
    "    rho = rho*2\n",
    "    answer_rho2 = Runge(10, 10*z, 4, 2, 2, value, total_error/2)\n",
    "    estimate_rho = np.abs(answer_rho1 - answer_rho2)\n",
    "    answer_rho1 = answer_rho2\n",
    "\n",
    "delta_European_option = answer_rho2\n",
    "\n",
    "print(\"the delta of the European option is\",delta_European_option)\n",
    "\n",
    "# runge 40 20 4 0.05216656624640853\n",
    "# runge 160 40 4 0.007210369033354341\n",
    "# runge 640 80 4 0.0019301410971800936\n",
    "# runge 40 40 8 0.007323710542540995\n",
    "# runge 160 80 8 0.0019347345168801433\n",
    "# the delta of the European option is 0.17700415174287917"
   ]
  },
  {
   "cell_type": "code",
   "execution_count": 11,
   "metadata": {},
   "outputs": [
    {
     "name": "stdout",
     "output_type": "stream",
     "text": [
      "5.972539932740992 5.9390908389878785 0.1802408163464242 0.17700415174287917\n"
     ]
    }
   ],
   "source": [
    "print(price_American_option, price_European_option, delta_American_option, delta_European_option)\n",
    "\n",
    "# 5.972539932740992 5.9390908389878785 0.1802408163464242 0.17700415174287917"
   ]
  },
  {
   "cell_type": "code",
   "execution_count": 12,
   "metadata": {},
   "outputs": [
    {
     "name": "stdout",
     "output_type": "stream",
     "text": [
      "The price of the American option is 5.972539932740992\n",
      "The price of the European option is 5.9390908389878785\n",
      "The delta of the American option is 0.1802408163464242\n",
      "The delta of the European option is 0.17700415174287917\n"
     ]
    }
   ],
   "source": [
    "print(\"The price of the American option is\",price_American_option)\n",
    "print(\"The price of the European option is\",price_European_option)\n",
    "print(\"The delta of the American option is\", delta_American_option)\n",
    "print(\"The delta of the European option is\",delta_European_option)\n",
    "\n",
    "# 5.972539932740992 5.9390908389878785 0.1802408163464242 0.17700415174287917"
   ]
  }
 ],
 "metadata": {
  "kernelspec": {
   "display_name": "Python 3",
   "language": "python",
   "name": "python3"
  },
  "language_info": {
   "codemirror_mode": {
    "name": "ipython",
    "version": 3
   },
   "file_extension": ".py",
   "mimetype": "text/x-python",
   "name": "python",
   "nbconvert_exporter": "python",
   "pygments_lexer": "ipython3",
   "version": "3.8.1"
  }
 },
 "nbformat": 4,
 "nbformat_minor": 4
}
