{
 "cells": [
  {
   "cell_type": "markdown",
   "metadata": {},
   "source": [
    "# Lab 9 Exercises\n",
    "\n",
    "If we consider a European option with exercise time $T$ and payoff function $p$ and assume the validity of Black-Scholes market model, then the option price  at time $t$ is given by \n",
    "\n",
    "$v(S(t),t)=u(\\ln(S(t)),t)$, \n",
    "\n",
    "where $u$ is the solution to the problem\n",
    "\n",
    "\n",
    "\\begin{equation*}\n",
    "\\frac{\\partial u}{\\partial\n",
    "  t}(x,t)+\\alpha(x,t)\\frac{\\partial^2 u}{\\partial x^2}(x,t)+\n",
    "\\beta(x,t)\\frac{\\partial u}{\\partial x}(x,t)-r\\, u(x,t)=0,\\ x\\in\n",
    "\\mathbb{R}, 0\\leq t<T      \n",
    "\\end{equation*}\n",
    "                      \n",
    "                      \n",
    "satisfying the final condition\n",
    "$$u(x,T)=p(e^x),\\ x\\in \\mathbb{R}.$$\n",
    "Here\n",
    "\\begin{align*}\n",
    "\\alpha(x,t)&=\\frac{\\sigma^2(e^x,t)}{2},\\\\\n",
    "\\beta(x,t)&=r-D-\\frac{\\sigma^2(e^x,t)}{2}.\n",
    "\\end{align*}\n",
    "\n",
    "                      \n",
    "For solving the equation for $u$ numerically, we introduce two boundaries $x_{min}$ and $x_{max}$ and specify boundary conditions \n",
    "                      \n",
    "$u(x_{min},t)=\\phi_1(t,x_{min})$,\n",
    "\n",
    "$u(x_{max},t)=\\phi_2(t,x_{max})$ \n",
    "                      \n",
    "at those points. \n",
    "                      \n",
    "Next, we introduce the points \n",
    "                      \n",
    "$x_i=x_{min}+i\\Delta x,\\ i=0,\\ldots,n$ \n",
    "\n",
    "and \n",
    "                      \n",
    "$t_k=k\\Delta t,\\ k=0,\\ldots,m$ \n",
    "                      \n",
    "and denote approximate values of $u(x_i,t_k)$ by $U_{ik}$. Here $\\Delta x=\\frac{x_{max}-x_{min}}{n}$ and $\\Delta t=\\frac{T}{m}$. In the case of the explicit finite difference method we compute the values $U_{ik}$ as follows:\n",
    "                      \n",
    "\\begin{align*}\n",
    "U_{im}&=p(e^{x_i}),\\ i=0,\\ldots,n\\\\\n",
    "\\\\                      \n",
    "U_{0,k-1}&=\\phi_1(t_{k-1}),\\ U_{n,k-1}= \\phi_2(t_{k-1}),\\ k=m,m-1,\\ldots,1,\\\\\n",
    "\\\\                      \n",
    "U_{i,k-1}&=a_{ik}U_{i-1,k}+b_{ik}U_{ik}+c_{ik}U_{i+1,k},\\ i=1,\\ldots,n-1,\\ k=m,m-1,\\ldots,1,\n",
    "\\end{align*}\n",
    "                      \n",
    "where\n",
    "                      \n",
    "\\begin{align*}\n",
    "  a_{ik}&=\\frac{\\Delta t}{\\Delta\n",
    "  x^2}\\left(\\alpha(x_i,t_k)-\\frac{\\beta(x_i,t_k)}{2}\\Delta x\\right),\\\\\n",
    "\\\\                      \n",
    " b_{ik}&=1-2\\frac{\\Delta t}{\\Delta\n",
    "  x^2}\\alpha(x_i,t_k)-r\\Delta t,\\\\\n",
    "\\\\                      \n",
    "c_{ik}&=\\frac{\\Delta t}{\\Delta\n",
    "  x^2}\\left(\\alpha(x_i,t_k)+\\frac{\\beta(x_i,t_k)}{2}\\Delta x\\right).\n",
    "\\end{align*}\n",
    "                      \n",
    "If $\\sigma$ satisfies $0<c_1 \\leq \\sigma(s,t)\\leq c_2\\ \\forall s>0,\\ \\forall t\\in [0,T)$ for some constants $c_1$ and $c_2$, then the method is stable for large enough $m,n$ if $b_{ik}\\geq 0$. This means that we can choose one of the paramters $m,n$ freely, but the other one should be chosen so that the constraint is satisfied. Usually it is better to choose $n$ and then choose $m$ so that the condition $b_{ik}\\geq 0$ is satisfied."
   ]
  },
  {
   "cell_type": "markdown",
   "metadata": {},
   "source": [
    "If $\\sigma$ is a constant, then the coefficients $a=a_{ik},b=b_{ik}$ and $c=c_{ik}$ are also constants (do not depend on $i$ and $k$) and the numerical scheme simplifies to \n",
    "\n",
    "$$U_{i,k-1}=a\\,U_{i-1,k}+b\\,U_{ik}+c\\,U_{i+1,k},\\ i=1,\\ldots,n-1,\\ k=m,m-1,\\ldots,1.$$\n",
    "\n",
    "The stability condition is in this case $b\\geq 0$."
   ]
  },
  {
   "cell_type": "markdown",
   "metadata": {},
   "source": [
    "If we write down this condition in terms of $m$ and $n$ we get\n",
    "$$1-2\\frac{T}{m}\\frac{n^2}{(x_{max}-x_{min})^2}\\alpha-r\\frac{T}{m}\\geq 0,$$\n",
    "where $\\alpha=\\frac{\\sigma^2}{2}$. "
   ]
  },
  {
   "cell_type": "markdown",
   "metadata": {},
   "source": [
    "## Exercise 1.\n",
    "Solve the stability condition for $m$, that is, find an equivalent condition of the form $m\\geq \\ldots$."
   ]
  },
  {
   "cell_type": "markdown",
   "metadata": {},
   "source": [
    "*Solution*: ???"
   ]
  },
  {
   "cell_type": "markdown",
   "metadata": {},
   "source": [
    "<details>\n",
    "  <summary>After finding the formula, check it (click to expand)</summary>\n",
    "   \n",
    "An equivalent inequality is  \n",
    "$$m\\geq T\\cdot \\left(\\frac{2\\,\\alpha\\, n^2}{(x_{max}-x_{min})^2}+r\\right)$$\n",
    "</details>"
   ]
  },
  {
   "cell_type": "markdown",
   "metadata": {},
   "source": [
    "## Exercise 2\n",
    "Write a function that for given values of $n$, $\\rho>1$, $r$, $D$, $S0$, $T$, $\\sigma$ and for given functions $p$, $\\phi_1$ and $\\phi_2$ takes $m$ to be equal to the smallest integer satisfying the stability constraint (hint: use commands `np.int64(np.ceil(...))`) and returns the values $U_{i0},\\ i=0,\\ldots,n$ of the approximate solution (option prices) obtained by solving the transformed BS equation with the explicit finite difference method and the corresponding stock prices $S_i=e^{x_i}$ in the case $x_{min}=\\ln \\frac{S0}{\\rho},\\ x_{max}=\\ln(\\rho\\, S0)$. \n",
    "\n",
    "Test the correctness of your code by comparing the results to the exact values obtained by Black-Scholes formula in the case $r=0.03$, $\\sigma=0.5$, $D=0.05$, $T=0.5$, $E=97$, $S0=100$, $p(s)=\\max(s-E,0)$, $\\phi_1(t)=p(e^{x_{min}}),\\ \\phi_2(t)=p(e^{x_{max}})$.\n",
    "\n",
    "**Solution**"
   ]
  },
  {
   "cell_type": "code",
   "execution_count": 4,
   "metadata": {},
   "outputs": [],
   "source": [
    "import numpy as np\n",
    "def explicit_solver(n, rho, r, D, S0, T, sigma, p, phi1, phi2):\n",
    "    \"\"\"assume that phi1 and phi2 are functions of 2 arguments (xmin,t or xmax,t)\"\"\"\n",
    "    \n",
    "    xmin = np.log(S0/rho)\n",
    "    xmax = np.log(rho*S0)\n",
    "    dx = (xmax - xmin)/n\n",
    "    \n",
    "    # find m from the stability condition\n",
    "    m = T*((sigma**2 * n**2)/(xmax - xmin)**2 + r)\n",
    "    \n",
    "    # change it to an integer, which is not smaller than the computed value\n",
    "    m = np.int64(np.ceil(T*((sigma**2 * n**2)/(xmax - xmin)**2 + r)))\n",
    "    dt = T/m\n",
    "    \n",
    "    # define values of x_i\n",
    "    x = np.linspace(xmin, xmax, n + 1)\n",
    "    \n",
    "    # n+1 by m+1 matrix\n",
    "    U = np.zeros(shape = (n+1, m+1))\n",
    "    \n",
    "    # final condition from above\n",
    "    U[:, m] = p(np.exp(x))\n",
    "    \n",
    "    alpha = sigma**2/2\n",
    "    beta = r - D - sigma**2/2\n",
    "    a = dt/dx**2 * (alpha - beta/2 * dx)\n",
    "    b = 1 - 2*dt/dx**2*alpha - r*dt\n",
    "    c = dt/dx**2*(alpha + beta/2*dx)\n",
    "    \n",
    "    i = np.arange(1, n)\n",
    "    t = np.linspace(0, T, m+1)\n",
    "    \n",
    "    for k in range(m, 0, -1): # backward iteration, k = m, m-1, ...\n",
    "        # boundary conditions\n",
    "        U[0, k-1] = phi1(xmin, t[k-1])\n",
    "        U[n, k-1] = phi2(xmax, t[k-1])\n",
    "        \n",
    "        # all other values\n",
    "        U[i, k-1] = a*U[i-1, k] + b*U[i, k] + c*U[i+1, k]\n",
    "  \n",
    "    return [U[:, 0], np.exp(x)]"
   ]
  },
  {
   "cell_type": "markdown",
   "metadata": {},
   "source": [
    "Test the solution. For this, define the pay-off function and the functions $\\phi_1,\\ \\phi_2$"
   ]
  },
  {
   "cell_type": "code",
   "execution_count": 2,
   "metadata": {},
   "outputs": [
    {
     "name": "stdout",
     "output_type": "stream",
     "text": [
      "option prices: [  0.           0.           0.64273791  14.42641365  58.99043012\n",
      " 149.76470435 303.        ]\n",
      "stock prices: [ 25.          39.6850263   62.99605249 100.         158.7401052\n",
      " 251.98420998 400.        ]\n"
     ]
    }
   ],
   "source": [
    "# define parameters\n",
    "r = .03\n",
    "sigma = .5\n",
    "D = .05\n",
    "T = .5\n",
    "E = 97\n",
    "S0 = 100\n",
    "\n",
    "# define payoff function\n",
    "def p_call(s):\n",
    "    return np.maximum(0, s - E)\n",
    "# define boundary functions\n",
    "def phi1(xmin, t):\n",
    "    return p_call(np.exp(xmin))\n",
    "def phi2(xmax, t):\n",
    "    return p_call(np.exp(xmax))\n",
    "n = 6; rho = 4\n",
    "solution = explicit_solver(n, rho, r, D, S0, T, sigma, p_call, phi1, phi2)\n",
    "print(\"option prices:\", solution[0])\n",
    "print(\"stock prices:\", solution[1])"
   ]
  },
  {
   "cell_type": "markdown",
   "metadata": {},
   "source": [
    "<details>\n",
    "<summary> Click to check your results!</summary>\n",
    "\n",
    "option prices: [   0.            0.            0.64273791   14.42641365   58.99043012\n",
    "  149.76470435  303.        ]<br/>\n",
    "stock prices: [  25.           39.6850263    62.99605249  100.          158.7401052\n",
    "  251.98420998  400.        ]\n",
    " </details>"
   ]
  },
  {
   "cell_type": "markdown",
   "metadata": {},
   "source": [
    "Note that the relation to the matrix U computed inside the function `explicit_solver` and the option prices are as follows:\n",
    "if at the time moment $t=t_k$ the logarithm of the current stock price $\\ln(S(t))$ is $x_i$, then the price is approximately $U_{ik}$. Since we return only to values corresponding to $t=t_0=0$, the first vector of the result gives the prices for different possible values of $S(0)$: if $\\ln(S(0))=x_i$, then the option price is the $i$-th value in the first vector.\n",
    "So $x_{min},\\ x_{max}$ and $n$ determine for which stock prices we have approximate values in the matrix $U$ (and thus also in the first component of the result of the function). Now, if we know in advance that we are mostly interested in the case  $S(0)=S_0$, where $S_0$ is a given number, it is good to make sure that $\\ln S_0$ is one of the grid points in $x$ direction.\n",
    "\n",
    "This is why we have defined $x_{min}$ and $x_{max}$ by the formulas given in the previous exercise handout. Namely, since $\\frac{x_{min}+x_{max}}{2}=\\ln S_0$ (show it!), we have the price corresponding to $S(0)=S_0$ in the matrix $U$ whenever $\\frac{x_{min}+x_{max}}{2}$ is a grid point, and that is true for all even values of $n$. Moreover, the price is exactly in the middle of the $n+1$ values our function returns, which is clearly seen also by looking at the stock prices in the output: the value $S_0=100$ is exactly the middle element of the vector of stock prices.\n",
    "\n",
    "Compare the approximate price of the option to the exact value computed by the BS formula:"
   ]
  },
  {
   "cell_type": "code",
   "execution_count": 3,
   "metadata": {},
   "outputs": [
    {
     "name": "stdout",
     "output_type": "stream",
     "text": [
      "0.13019861406394106\n"
     ]
    }
   ],
   "source": [
    "import numpy as np \n",
    "from scipy import stats #needed for Phi\n",
    "\n",
    "phi = stats.norm.cdf # the cumulative distribution function of the standard normal distribution\n",
    "\n",
    "# define Put and Call functions\n",
    "def call(S, E, T, r, sigma, D):\n",
    "    d1 = (np.log(S/E) + (r - D + sigma**2/2)*T)/(sigma*np.sqrt(T))\n",
    "    d2 = d1 - sigma*np.sqrt(T)\n",
    "    answer = S*np.exp(-D*T)*phi(d1) - E*np.exp(-r*T)*phi(d2)\n",
    "    return(answer)\n",
    "\n",
    "def put(S, E, T, r, sigma, D):\n",
    "    d1 = (np.log(S/E) + (r - D + sigma**2/2)*T)/(sigma*np.sqrt(T))\n",
    "    d2 = d1 - sigma*np.sqrt(T)\n",
    "    answer = -S*np.exp(-D*T)*phi(-d1) + E*np.exp(-r*T)*phi(-d2)\n",
    "    return(answer)\n",
    "\n",
    "n = 6; rho = 4\n",
    "\n",
    "approximate_solution = explicit_solver(n, rho, r, D, S0, T, sigma, p_call, phi1, phi2)\n",
    "approximate_call_price = approximate_solution[0][n//2]\n",
    "\n",
    "exact_call_price = call(S0, E, T, r, sigma, D)\n",
    "\n",
    "print(exact_call_price - approximate_call_price)"
   ]
  },
  {
   "cell_type": "markdown",
   "metadata": {},
   "source": [
    "<details>\n",
    "    <summary> Click to check your result!</summary>\n",
    "  \n",
    "  The answer should be 0.130198614064\n",
    "  </details>    "
   ]
  },
  {
   "cell_type": "markdown",
   "metadata": {},
   "source": [
    "The difference is quite small even for $n=6$. Check the result for a larger value of $n$:"
   ]
  },
  {
   "cell_type": "code",
   "execution_count": 4,
   "metadata": {},
   "outputs": [
    {
     "name": "stdout",
     "output_type": "stream",
     "text": [
      "0.00415215498838073\n"
     ]
    }
   ],
   "source": [
    "n = 100\n",
    "\n",
    "approximate_solution = explicit_solver(n, rho, r, D, S0, T, sigma, p_call, phi1, phi2)\n",
    "approximate_call_price_2 = approximate_solution[0][n//2]\n",
    "\n",
    "print(exact_call_price - approximate_call_price_2)"
   ]
  },
  {
   "cell_type": "markdown",
   "metadata": {},
   "source": [
    "<details>\n",
    "<summary> Click to check your result!</summary>\n",
    "\n",
    "The answer should be 0.00415215498838\n",
    "</details>"
   ]
  },
  {
   "cell_type": "markdown",
   "metadata": {},
   "source": [
    "## Exercise 3\n",
    "Let $r=0.02$, $\\sigma=0.6$, $D=0.03$, $T=0.5$, $E=99$, $S0=100$, $p(s)=\\max(s-E,0)$. If we use the explicit method of previous exercise, then even if we let $n$ go to infinity there is going to be a finite error between the exact option price at $t=0, S(0)=S0$ and the corresponding approximate value. This error is caused by introducing artificial boundaries $x_{min}$ and $x_{max}$ and the boundary conditions specified at those boundaries. Use the boundary conditions $\\phi_1(t)=p(e^{x_{min}}),\\ \\phi_2(t)=p(e^{x_{max}})$ and determine the value of the resulting error for $\\rho=1.5, 2, 2.5$. In order to see the resulting error you should do several computations with fixed $\\rho$ and increasing values of $n$ (assuming $m$ is determined from the stability condition, $n$ should be increased by multiplying it by 2 each time). Use the knowledge that for large enough $n$ the part of the error depending on the choice of $n$ behaves approximately like $\\frac{const.}{n^2}$ (so the difference of the last two computations divided by 3 is an estimate of this part of the error for the last computation) for determining how far your last computation is from the limiting value. For each value of $\\rho$, start computations from $n=10$ and stop the computations when the absolute error depending on $n$ is at least 10 times smaller than the actual absolute error of the computed answer.\n",
    "\n",
    "**Solution**"
   ]
  },
  {
   "cell_type": "code",
   "execution_count": 5,
   "metadata": {},
   "outputs": [],
   "source": [
    "# define parameters, compute the exact price\n",
    "r = .02\n",
    "sigma = .6\n",
    "D = .03\n",
    "T = .5\n",
    "E = 99\n",
    "S0 = 100\n",
    "\n",
    "exact_call_price = call(S0, E, T, r, sigma, D)"
   ]
  },
  {
   "cell_type": "markdown",
   "metadata": {},
   "source": [
    "First value of $\\rho$:"
   ]
  },
  {
   "cell_type": "code",
   "execution_count": 6,
   "metadata": {},
   "outputs": [
    {
     "name": "stdout",
     "output_type": "stream",
     "text": [
      "-0.6614981281249541\n",
      "-0.6963219137351828\n",
      "doubling n changes the answer by 0.011607928536742898\n"
     ]
    }
   ],
   "source": [
    "rho = 1.5\n",
    "n = 10\n",
    "\n",
    "approximate_solution = explicit_solver(n, rho, r, D, S0, T, sigma, p_call, phi1, phi2)\n",
    "approximate_price_1 = approximate_solution[0][n//2]\n",
    "\n",
    "print(approximate_price_1 - exact_call_price)\n",
    "\n",
    "n = 2*n\n",
    "\n",
    "approximate_solution = explicit_solver(n, rho, r, D, S0, T, sigma, p_call, phi1, phi2)\n",
    "approximate_price_2 = approximate_solution[0][n//2]\n",
    "\n",
    "print(approximate_price_2 - exact_call_price)\n",
    "\n",
    "print(\"doubling n changes the answer by\", np.abs(approximate_price_2 - approximate_price_1)/3)"
   ]
  },
  {
   "cell_type": "markdown",
   "metadata": {},
   "source": [
    "<details>\n",
    "    <summary>Click to check your results!</summary>\n",
    "    \n",
    "    The required accuracy is achieved with n=20, the the actual absolute eror is 0.696321913735, the estimate for the error depending on n is 0.0116079285367\n",
    "</details>"
   ]
  },
  {
   "cell_type": "markdown",
   "metadata": {},
   "source": [
    "The second value of $\\rho$:"
   ]
  },
  {
   "cell_type": "code",
   "execution_count": 7,
   "metadata": {},
   "outputs": [
    {
     "name": "stdout",
     "output_type": "stream",
     "text": [
      "-0.015281464246797327\n",
      "0.03175560207778716\n",
      "doubling n changes the answer by 0.01567902210819483\n"
     ]
    }
   ],
   "source": [
    "rho = 2\n",
    "n = 10\n",
    "\n",
    "approximate_solution = explicit_solver(n, rho, r, D, S0, T, sigma, p_call, phi1, phi2)\n",
    "approximate_price_1 = approximate_solution[0][n//2]\n",
    "\n",
    "print(approximate_price_1 - exact_call_price)\n",
    "\n",
    "n = 2*n\n",
    "\n",
    "approximate_solution = explicit_solver(n, rho, r, D, S0, T, sigma, p_call, phi1, phi2)\n",
    "approximate_price_2 = approximate_solution[0][n//2]\n",
    "\n",
    "print(approximate_price_2 - exact_call_price)\n",
    "\n",
    "print(\"doubling n changes the answer by\", np.abs(approximate_price_2 - approximate_price_1)/3)"
   ]
  },
  {
   "cell_type": "markdown",
   "metadata": {},
   "source": [
    "<details>\n",
    "    <summary>Click to check your results!</summary>\n",
    "    \n",
    "    The required accuracy is achieved with n=40, the the actual absolute eror is 0.0343809095772, the estimate for the error depending on n is 0.000875102499802\n",
    "</details>"
   ]
  },
  {
   "cell_type": "markdown",
   "metadata": {},
   "source": [
    "So the limiting error is approximately 0.034\n",
    "\n",
    "The last value of $\\rho$:"
   ]
  },
  {
   "cell_type": "code",
   "execution_count": 8,
   "metadata": {},
   "outputs": [
    {
     "name": "stdout",
     "output_type": "stream",
     "text": [
      "0.033609349997795114\n",
      "0.005018937123310252\n",
      "0.002348482547988103\n",
      "0.0017005496556983246\n",
      "6.427908793090371e-05\n",
      "doubling n changes the answer by 6.427908793090371e-05\n"
     ]
    }
   ],
   "source": [
    "rho = 2.5\n",
    "n = 10\n",
    "\n",
    "approximate_solution = explicit_solver(n, rho, r, D, S0, T, sigma, p_call, phi1, phi2)\n",
    "approximate_price_2 = approximate_solution[0][n//2]\n",
    "\n",
    "change = 1\n",
    "error = 1\n",
    "\n",
    "while(change/np.abs(error) > .1):\n",
    "    approximate_price_1 = approximate_price_2\n",
    "    n = 2*n\n",
    "    approximate_solution = explicit_solver(n, rho, r, D, S0, T, sigma, p_call, phi1, phi2)\n",
    "    approximate_price_2 = approximate_solution[0][n//2]\n",
    "    error = approximate_price_2 - exact_call_price\n",
    "    change = np.abs((approximate_price_2 - approximate_price_1)/3)\n",
    "    print(change)\n",
    "print(\"doubling n changes the answer by\", np.abs(approximate_price_2 - approximate_price_1)/3)"
   ]
  },
  {
   "cell_type": "markdown",
   "metadata": {},
   "source": [
    "<details>\n",
    "    <summary>Click to check your results!</summary>\n",
    "    \n",
    "    The required accuracy is achieved with n=320, the the actual absolute eror is 0.012070992458767194, the estimate for the error depending on n is 0.00006.427908793090371\n",
    "</details>"
   ]
  },
  {
   "cell_type": "markdown",
   "metadata": {},
   "source": [
    "So we see that the error caused by the location of $x_{min}$ and $x_{max}$ is approaching 0 quickly when $\\rho$ increases. For most practical problems $\\rho=3$ is good enough but of cause we should do some computations to check if this is indeed the case."
   ]
  },
  {
   "cell_type": "markdown",
   "metadata": {},
   "source": [
    "###### Practical homework 4\n",
    "It is important to understand that a single computation by a finite difference method can be used for computing prices of the same option at different time moments for any reasonable value of the current stock price at the time moments of interest.  Of cause our numerical method does not give us a formula for the function $v$, but only a table of values corresponding to certain stock prices and time moments. So to find a value of the function for a given value of $s$ and for given time moment, we should determine the closest values of of stock prices and time moments for which we have results and to use them to compute the value we need. One commonly used approach is **bilinear interpolation**, which works as follows.\n",
    "\n",
    "Suppose that we know the values of a function $u(x,t)$ at the corners of a rectangle $[x_1,x_2]\\times [t_1,t_2]$, denote the known values by  $u(x_1,t_1)=U_{11}$, $u(x_1,t_2)=U_{12}$, $u(x_2,t_1)=U_{21}$, $u(x_2,t_2)=U_{22}$. Denote also $\\Delta x=x_2-x_1,\\Delta t=t_2-t_1$. Then the the value of $u$ at the point $(x,t)$, where $x_1\\leq x<x_1$, $t_1\\leq t\\leq t_2$ can be computed approximately by the bilinear interpolation formula\n",
    "$$u(x,t)\\approx \\frac{U_{11}(x_2-x)(t_2-t)+U_{12}(x_2-x)(t-t_1)+U_{21}(x-x_1)(t_2-t)+U_{22}(x-x_1)(t-t_1)}{\\Delta x\\,\\Delta t}.$$\n",
    "It is known that if the function $u$ has continuous second derivatives in $x$ and $t$ variables, then the approximation error is bounded by $const. \\cdot (\\Delta x^2+\\Delta t^2)$.\n",
    "\n",
    "### Homework 4 (deadline April 20, 2020) \n",
    "Modify the solver of Exercise 1 so that instead of $S0$ and $\\rho$ it takes values of $x_{min}$ and $x_{max}$ as parameters and returns the matrix $U$ as the answer. Use the explicit finite difference method with  $r=0.02$, $\\sigma=0.5$, $D=0$, $T=0.7$, $p(s)=\\frac{40}{1+0.2(s-70)^2}$, $\\phi_1(t,x_{min})=p(e^{x_{min}}),\\ \\phi_2(t,x_{max})=p(e^{x_{max}})$, $x_{min}=\\ln 30,\\ x_{max}=\\ln 240$, $n=60$ to compute the matrix $U$. The matrix should be computed only once when solving the homework problem. Use this matrix to find approximate option prices:\n",
    "\n",
    "1. at time $t=0$, when $S(0)=120$ without interpolation (the value is in the matrix $U$, you have to compute the indexes exactly),\n",
    "2. Use $U$ to compute approximately the value of the option at time $t=0.135$, when $S(0.135)=83.79$ by using the bilinear interpolation formula.\n",
    "\n",
    "**I ask you to solve the problem by yourself (you can ask for help from me)!** \n"
   ]
  },
  {
   "cell_type": "code",
   "execution_count": 2,
   "metadata": {},
   "outputs": [],
   "source": [
    "import numpy as np\n",
    "\n",
    "r = .02\n",
    "sigma = .5\n",
    "D = 0\n",
    "T = .7\n",
    "xmin = np.log(30)\n",
    "xmax = np.log(240)\n",
    "n = 60\n",
    "\n",
    "def p(s):\n",
    "    return 40/(1 + .2*(s - 70)**2) \n",
    "\n",
    "def phi1(xmin, t):\n",
    "    return p(np.exp(xmin))\n",
    "\n",
    "def phi2(xmax, t):\n",
    "    return p(np.exp(xmax))\n",
    "\n",
    "\n",
    "def explicit_solver_Bill(xmin, xmax, n, r, D, T, sigma, p, phi1, phi2):\n",
    "    \n",
    "    dx = (xmax - xmin)/n\n",
    "    \n",
    "    # from the stability condition\n",
    "    m = T*((sigma**2 * n**2)/(xmax - xmin)**2 + r)\n",
    "    \n",
    "    # change m to an integer, at least as big as the computed value\n",
    "    m = np.int64(np.ceil(T*((sigma**2 * n**2)/(xmax - xmin)**2 + r)))\n",
    "    dt = T/m\n",
    "    \n",
    "    # define values of x_i\n",
    "    x = np.linspace(xmin, xmax, n + 1)\n",
    "    \n",
    "    # n+1 by m+1 matrix\n",
    "    U = np.zeros(shape = (n+1, m+1))\n",
    "    \n",
    "    # final condition from above\n",
    "    U[:, m] = p(np.exp(x))\n",
    "    \n",
    "    alpha = sigma**2/2\n",
    "    beta = r - D - sigma**2/2\n",
    "    a = dt/dx**2 * (alpha - beta/2 * dx)\n",
    "    b = 1 - 2*dt/dx**2*alpha - r*dt\n",
    "    c = dt/dx**2*(alpha + beta/2*dx)\n",
    "    \n",
    "    # time steps\n",
    "    i = np.arange(1, n)\n",
    "    \n",
    "    # time vector\n",
    "    t = np.linspace(0, T, m+1)\n",
    "    \n",
    "    for k in range(m, 0, -1): # backward iteration, k = m, m-1, ...\n",
    "        \n",
    "        # boundary conditions\n",
    "        U[0, k-1] = phi1(xmin, t[k-1])\n",
    "        U[n, k-1] = phi2(xmax, t[k-1])\n",
    "        \n",
    "        # all other values\n",
    "        U[i, k-1] = a*U[i-1, k] + b*U[i, k] + c*U[i+1, k]\n",
    "  \n",
    "    return U\n",
    "\n",
    "approximate_solution = explicit_solver_Bill(xmin, xmax, n, r, D, T, sigma, p, phi1, phi2)\n",
    "\n",
    "dx = (xmax - xmin)/n"
   ]
  },
  {
   "cell_type": "code",
   "execution_count": 3,
   "metadata": {},
   "outputs": [
    {
     "name": "stdout",
     "output_type": "stream",
     "text": [
      "For t = 0 and S0 = 120, the approximate value of the option is:  1.9418822195077219 .\n"
     ]
    }
   ],
   "source": [
    "# Convert exact index to an integer\n",
    "index_t0 = np.int64(round((np.log(120) - xmin)/dx)) \n",
    "\n",
    "print(\"For t = 0 and S0 = 120, the approximate value of the option is: \",approximate_solution[index_t0, 0], \".\")"
   ]
  },
  {
   "cell_type": "code",
   "execution_count": 4,
   "metadata": {},
   "outputs": [
    {
     "name": "stdout",
     "output_type": "stream",
     "text": [
      "The approximate value of the option when t = .135 and S(.135) = 83.79 is:  3.7159731535038074\n"
     ]
    }
   ],
   "source": [
    "# Compute the approximate value of the option at time 𝑡 = .135, when 𝑆(0.135) = 83.79 using the bilinear interpolation formula.\n",
    "\n",
    "\n",
    "# Find the endpoints of the grid the point lies between\n",
    "\n",
    "m = np.int64(np.ceil(T*((sigma*n)**2/(xmax - xmin)**2 + r)))\n",
    "dt = T/m\n",
    "index_t = .135/dt \n",
    "index_x = ((np.log(83.79) - xmin)/dx)\n",
    "\n",
    "# index of the first corner\n",
    "U11 = approximate_solution[np.int64(np.floor(index_x)), np.int64(np.floor(index_t))]\n",
    "\n",
    "# index of the second corner\n",
    "U12 = approximate_solution[np.int64(np.floor(index_x)), np.int64(np.ceil(index_t))]\n",
    "\n",
    "# index of the third corner\n",
    "U21 = approximate_solution[np.int64(np.ceil(index_x)), np.int64(np.floor(index_t))]\n",
    "\n",
    "# index of the fourth corner\n",
    "U22 = approximate_solution[np.int64(np.ceil(index_x)), np.int64(np.ceil(index_t))]\n",
    "\n",
    "# dt = dx = 1, so are omitted\n",
    "option_price = (U11*(np.ceil(index_x) - index_x)*(np.ceil(index_t) - index_t) + \n",
    "                U12*(np.ceil(index_x) - index_x)*(index_t - np.floor(index_t)) + \n",
    "                U21*(index_x - np.floor(index_x))*(np.ceil(index_t) - index_t) + \n",
    "                U22*(index_x - np.floor(index_x))*(index_t - np.floor(index_t)))\n",
    "\n",
    "print(\"The approximate value of the option when t = .135 and S(.135) = 83.79 is: \", option_price)"
   ]
  },
  {
   "cell_type": "code",
   "execution_count": 5,
   "metadata": {},
   "outputs": [
    {
     "name": "stdout",
     "output_type": "stream",
     "text": [
      "The approximate value of the option when t = .135 and S(.135) = 83.79 is:  3.7159731535038074\n"
     ]
    }
   ],
   "source": [
    "# Compute the approximate value of the option at time 𝑡 = .135, when 𝑆(0.135) = 83.79 using the bilinear interpolation formula.\n",
    "\n",
    "\n",
    "# Find the endpoints of the grid the point lies between\n",
    "\n",
    "m = np.int64(np.ceil(T*((sigma*n)**2/(xmax - xmin)**2 + r)))\n",
    "dt = T/m\n",
    "index_t = .135/dt \n",
    "index_x = ((np.log(83.79) - xmin)/dx)\n",
    "\n",
    "# index of the first corner\n",
    "U11 = approximate_solution[np.int64(np.floor(index_x)), np.int64(np.floor(index_t))]\n",
    "\n",
    "# index of the second corner\n",
    "U12 = approximate_solution[np.int64(np.floor(index_x)), np.int64(np.floor(index_t) + 1)]\n",
    "\n",
    "# index of the third corner\n",
    "U21 = approximate_solution[np.int64(np.floor(index_x) + 1), np.int64(np.floor(index_t))]\n",
    "\n",
    "# index of the fourth corner\n",
    "U22 = approximate_solution[np.int64(np.floor(index_x) + 1), np.int64(np.floor(index_t) + 1)]\n",
    "\n",
    "# dt = dx = 1, so are omitted\n",
    "option_price = (U11*(np.floor(index_x) + 1 - index_x)*(np.floor(index_t) + 1 - index_t) + \n",
    "                U12*(np.floor(index_x) + 1 - index_x)*(index_t - np.floor(index_t)) + \n",
    "                U21*(index_x - np.floor(index_x))*(np.floor(index_t) + 1 - index_t) + \n",
    "                U22*(index_x - np.floor(index_x))*(index_t - np.floor(index_t)))\n",
    "\n",
    "print(\"The approximate value of the option when t = .135 and S(.135) = 83.79 is: \", option_price)"
   ]
  }
 ],
 "metadata": {
  "kernelspec": {
   "display_name": "Python 3",
   "language": "python",
   "name": "python3"
  },
  "language_info": {
   "codemirror_mode": {
    "name": "ipython",
    "version": 3
   },
   "file_extension": ".py",
   "mimetype": "text/x-python",
   "name": "python",
   "nbconvert_exporter": "python",
   "pygments_lexer": "ipython3",
   "version": "3.8.1"
  }
 },
 "nbformat": 4,
 "nbformat_minor": 1
}
