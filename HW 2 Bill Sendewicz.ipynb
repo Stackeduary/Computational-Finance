{
 "cells": [
  {
   "cell_type": "markdown",
   "metadata": {},
   "source": [
    "Homework 2:\n",
    "    \n",
    "Consider the closing prices of Facebook stock for the period March 4, 2019 - March 3, 2020.\n",
    "\n",
    "Consider Black-Scholes model with non-constant trend\n",
    "\n",
    "mu(t) = theta_1 + theta_2 * log(S(t)/S(t − 4 * dt))\n",
    "\n",
    "where dt is the length of one trading day in years, \n",
    "\n",
    "and constant volatility sigma(s, t) = theta_0\n",
    "\n",
    "Find maximum likelihood estimates for the parameters theta_0, theta_1 and theta_2 \n",
    "by using the approach discussed in lecture notes (that is based on using the Euler’s approximation of the equation for dS(t)). \n",
    "\n",
    "Can we assume that the observed stock prices follows the market model with the function µ and constant σ? \n",
    "\n",
    "Can we assume that the market model with the non-constant trend is better than the one with constant trend? \n",
    "\n",
    "Explain!\n",
    "\n",
    "All comments and explanations should be included (together with copies of obtained numerical results) as Python comments in your solution file, or a Jupyter notebook file with explanations and comments should be submitted."
   ]
  },
  {
   "cell_type": "code",
   "execution_count": 1,
   "metadata": {},
   "outputs": [
    {
     "name": "stdout",
     "output_type": "stream",
     "text": [
      "0.14167586383919634 0.2694854647674284\n",
      "Optimization terminated successfully.\n",
      "         Current function value: -202.622223\n",
      "         Iterations: 139\n",
      "         Function evaluations: 247\n",
      "[ 0.26793118  0.13827731 -3.98933859]\n",
      "Optimization terminated successfully.\n",
      "         Current function value: -202.622223\n",
      "         Iterations: 58\n",
      "         Function evaluations: 100\n",
      "[ 0.26793118  0.13827731 -3.98933859]\n",
      "Optimization terminated successfully.\n",
      "         Current function value: -202.622223\n",
      "         Iterations: 58\n",
      "         Function evaluations: 100\n",
      "[ 0.26793118  0.13827731 -3.98933859]\n",
      "Optimization terminated successfully.\n",
      "         Current function value: -202.622223\n",
      "         Iterations: 58\n",
      "         Function evaluations: 100\n",
      "[ 0.26793118  0.13827731 -3.98933859]\n",
      "The optimal parameters are: theta_0: 0.2679, theta_1: 0.1383 and theta_2: -3.9893\n"
     ]
    }
   ],
   "source": [
    "import numpy as np\n",
    "\n",
    "# read in the data\n",
    "FB_data = np.loadtxt(\"FB.csv\", delimiter = ',', skiprows = 1, usecols = (5, ))\n",
    "\n",
    "n = len(FB_data)\n",
    "dt = 1/n\n",
    "\n",
    "# a shorter name for the log-return data\n",
    "S = FB_data \n",
    "\n",
    "i = np.arange(0, n-1)\n",
    "\n",
    "x = np.log(S[i + 1]/S[i])\n",
    "\n",
    "sigma = np.std(x)/np.sqrt(dt)\n",
    "mu = np.mean(x)/dt + sigma**2/2\n",
    "\n",
    "print(mu, sigma)\n",
    "\n",
    "def f(theta):\n",
    "    # assume that S and dt are defined outside the function\n",
    "    i = np.arange(4, n-1)\n",
    "    Y = (S[i + 1] - S[i])/S[i]\n",
    "    sigma_vals = theta[0]\n",
    "    mu_vals = theta[1] + theta[2]*np.log(S[i]/S[i - 4])\n",
    "    m = (mu_vals - sigma_vals**2/2)*dt\n",
    "    return np.sum((Y - mu_vals*dt)**2/(2*sigma_vals**2*dt) + np.log(sigma_vals))\n",
    "\n",
    "# good starting values are known constants from simpler (constant coefficients) model\n",
    "from scipy import optimize\n",
    "theta_opt1 = optimize.fmin(f, [sigma, mu, 0])\n",
    "print(theta_opt1)\n",
    "\n",
    "theta_opt2 = optimize.fmin(f, theta_opt1)\n",
    "print(theta_opt2)\n",
    "\n",
    "theta_opt3 = optimize.fmin(f, theta_opt2)\n",
    "print(theta_opt3)\n",
    "\n",
    "theta_opt4 = optimize.fmin(f, theta_opt3)\n",
    "print(theta_opt4)\n",
    "\n",
    "print(\"The optimal parameters are: theta_0: \" + str(round(theta_opt4[0], 4)) + \", theta_1: \" +  str(round(theta_opt4[1], 4)) + \n",
    "      \" and theta_2: \" +  str(round(theta_opt4[2], 4)))"
   ]
  },
  {
   "cell_type": "code",
   "execution_count": 2,
   "metadata": {},
   "outputs": [
    {
     "data": {
      "text/plain": [
       "(0.9541699886322021, 3.8017884662622237e-07)"
      ]
     },
     "execution_count": 2,
     "metadata": {},
     "output_type": "execute_result"
    }
   ],
   "source": [
    "from scipy import stats\n",
    "\n",
    "stats.shapiro(x)"
   ]
  },
  {
   "cell_type": "code",
   "execution_count": 3,
   "metadata": {},
   "outputs": [
    {
     "data": {
      "text/plain": [
       "AndersonResult(statistic=2.279897564396123, critical_values=array([0.567, 0.646, 0.775, 0.904, 1.075]), significance_level=array([15. , 10. ,  5. ,  2.5,  1. ]))"
      ]
     },
     "execution_count": 3,
     "metadata": {},
     "output_type": "execute_result"
    }
   ],
   "source": [
    "stats.anderson(x, dist = 'norm')"
   ]
  },
  {
   "cell_type": "markdown",
   "metadata": {},
   "source": [
    "The result of the Shapiro test tells us that there is a 3.8018e-07 chance the data come from a normal distribution.\n",
    "\n",
    "The Anderson test tells us that since the test statistic is 2.2799 and is much greater than 1.075, the test statistic at the 1% confidence level, it is extremely unlikely that the log-stock return data come from a normal distribution.\n",
    "\n",
    "Therefore, it is highly unlikely that the log-return data come from the Black-Scholes model with constant coefficients."
   ]
  },
  {
   "cell_type": "code",
   "execution_count": 4,
   "metadata": {},
   "outputs": [
    {
     "name": "stdout",
     "output_type": "stream",
     "text": [
      "-400.9990278516483 -399.2444468960589\n"
     ]
    }
   ],
   "source": [
    "# two parameters in constant trend and constant volatility model\n",
    "AIC_constant_model = 2*2 + 2*f([sigma, mu, 0]) \n",
    "\n",
    "# three parameters in the model with non-constant trend\n",
    "AIC_non_constant_trend = 2*3 + 2*f(theta_opt4) \n",
    "\n",
    "print(AIC_constant_model, AIC_non_constant_trend)"
   ]
  },
  {
   "cell_type": "markdown",
   "metadata": {},
   "source": [
    "Because the model with constant coefficients has a lower AIC value (-400.999) than that of the model with non-constant trend (-399.244), the model with constant coefficients is a better model than that with non-constant coefficients, and thus is preferred."
   ]
  }
 ],
 "metadata": {
  "kernelspec": {
   "display_name": "Python 3",
   "language": "python",
   "name": "python3"
  },
  "language_info": {
   "codemirror_mode": {
    "name": "ipython",
    "version": 3
   },
   "file_extension": ".py",
   "mimetype": "text/x-python",
   "name": "python",
   "nbconvert_exporter": "python",
   "pygments_lexer": "ipython3",
   "version": "3.8.1"
  }
 },
 "nbformat": 4,
 "nbformat_minor": 4
}
